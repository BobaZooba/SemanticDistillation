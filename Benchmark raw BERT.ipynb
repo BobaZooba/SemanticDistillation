{
 "cells": [
  {
   "cell_type": "code",
   "execution_count": 1,
   "metadata": {},
   "outputs": [],
   "source": [
    "import math\n",
    "import json\n",
    "\n",
    "import numpy as np\n",
    "\n",
    "import torch\n",
    "from torch import nn\n",
    "import torch.nn.functional as F\n",
    "from torch.utils.data import Dataset, DataLoader\n",
    "\n",
    "import transformers\n",
    "from tqdm import tqdm\n",
    "\n",
    "from src import data"
   ]
  },
  {
   "cell_type": "code",
   "execution_count": 2,
   "metadata": {},
   "outputs": [],
   "source": [
    "model_type = 'distilbert-base-uncased'\n",
    "\n",
    "config = data.BaseConfig(model_type=model_type, batch_size=256, max_candidates=20)"
   ]
  },
  {
   "cell_type": "code",
   "execution_count": 3,
   "metadata": {},
   "outputs": [
    {
     "name": "stderr",
     "output_type": "stream",
     "text": [
      "Building index: 100%|██████████| 103/103 [01:07<00:00,  1.52it/s]\n"
     ]
    }
   ],
   "source": [
    "dataset_preparer = data.DatasetPreparer(config=config)"
   ]
  },
  {
   "cell_type": "code",
   "execution_count": 4,
   "metadata": {},
   "outputs": [],
   "source": [
    "dataloaders, dataloaders_with_candidates = dataset_preparer.load_data(as_data_loader=True)\n",
    "\n",
    "train_loader = dataloaders[0]\n",
    "valid_loader = dataloaders[1]\n",
    "\n",
    "train_loader_with_candidates = dataloaders_with_candidates[0]\n",
    "valid_loader_with_candidates = dataloaders_with_candidates[1]"
   ]
  },
  {
   "cell_type": "code",
   "execution_count": 5,
   "metadata": {},
   "outputs": [],
   "source": [
    "class GlobalMaskedPooling(nn.Module):\n",
    "\n",
    "    def __init__(self, pooling_type='mean', dim=1, length_scaling=True, square=True):\n",
    "        super().__init__()\n",
    "\n",
    "        self.pooling_type = pooling_type\n",
    "        self.dim = dim\n",
    "        self.length_scaling = length_scaling\n",
    "        self.square = square\n",
    "\n",
    "        if self.pooling_type == 'max':\n",
    "            self.mask_value = -10000.\n",
    "        else:\n",
    "            self.mask_value = 0.\n",
    "\n",
    "        if self.pooling_type not in ['mean', 'max']:\n",
    "            raise ValueError('Available types: mean, max')\n",
    "\n",
    "    def forward(self, x, pad_mask):\n",
    "        lengths = pad_mask.sum(self.dim).float()\n",
    "\n",
    "        x = x.masked_fill((~pad_mask).unsqueeze(-1), self.mask_value)\n",
    "\n",
    "        if self.pooling_type == 'mean':\n",
    "            scaling = x.size(self.dim) / lengths\n",
    "        else:\n",
    "            scaling = torch.ones(x.size(self.dim))\n",
    "\n",
    "        if self.length_scaling:\n",
    "            lengths_factor = lengths\n",
    "            if self.square:\n",
    "                lengths_factor = lengths_factor ** 0.5\n",
    "            scaling /= lengths_factor\n",
    "\n",
    "        scaling = scaling.masked_fill(lengths == 0, 1.).unsqueeze(-1)\n",
    "\n",
    "        if self.pooling_type == 'mean':\n",
    "            x = x.mean(self.dim)\n",
    "        else:\n",
    "            x = x.max(self.dim)\n",
    "\n",
    "        x *= scaling\n",
    "\n",
    "        return x\n",
    "\n",
    "    def extra_repr(self) -> str:\n",
    "        return f'pooling_type=\"{self.pooling_type}\"'"
   ]
  },
  {
   "cell_type": "code",
   "execution_count": 6,
   "metadata": {},
   "outputs": [],
   "source": [
    "class Encoder(nn.Module):\n",
    "    \n",
    "    def __init__(self, bert):\n",
    "        super().__init__()\n",
    "        \n",
    "        self.bert = bert\n",
    "        self.pooling = GlobalMaskedPooling(length_scaling=False, square=False)\n",
    "        \n",
    "    def forward(self, token_ids, pad_mask):\n",
    "        \n",
    "        embed = self.bert(token_ids, pad_mask)[0]\n",
    "        \n",
    "        embed = self.pooling(embed, pad_mask.bool())\n",
    "        \n",
    "        embed = F.normalize(embed)\n",
    "        \n",
    "        return embed"
   ]
  },
  {
   "cell_type": "code",
   "execution_count": 7,
   "metadata": {},
   "outputs": [],
   "source": [
    "device = torch.device('cuda') if torch.cuda.is_available() else torch.device('cpu')"
   ]
  },
  {
   "cell_type": "code",
   "execution_count": 8,
   "metadata": {},
   "outputs": [],
   "source": [
    "bert = transformers.AutoModel.from_pretrained(config.model_type)\n",
    "\n",
    "encoder = Encoder(bert=bert).to(device)\n",
    "encoder.eval()\n",
    "\n",
    "recall = data.Recall()"
   ]
  },
  {
   "cell_type": "code",
   "execution_count": 9,
   "metadata": {},
   "outputs": [],
   "source": [
    "def score_candidates(question_embeddings, candidates_embeddings):\n",
    "    \n",
    "    candidates_batch_size, model_dim = candidates_embeddings.size()\n",
    "    candidates_per_sample = candidates_batch_size // question_embeddings.size(0)\n",
    "    \n",
    "    candidates_embeddings = candidates_embeddings.view(question_embeddings.size(0),\n",
    "                                                       candidates_per_sample,\n",
    "                                                       model_dim)\n",
    "    \n",
    "    similarity_matrix = torch.bmm(question_embeddings.unsqueeze(1), \n",
    "                                  candidates_embeddings.transpose(1, 2)).squeeze(dim=1)\n",
    "    \n",
    "    similarity_matrix = similarity_matrix.detach().cpu()\n",
    "    \n",
    "    return similarity_matrix"
   ]
  },
  {
   "cell_type": "code",
   "execution_count": null,
   "metadata": {},
   "outputs": [
    {
     "name": "stderr",
     "output_type": "stream",
     "text": [
      "  5%|▍         | 45/976 [02:05<43:50,  2.83s/it] "
     ]
    }
   ],
   "source": [
    "recall.reset()\n",
    "\n",
    "for token_ids, positions, token_types in tqdm(valid_loader_with_candidates):\n",
    "    \n",
    "    question_token_ids = token_ids[0].to(device)\n",
    "    response_token_ids = token_ids[1].to(device)\n",
    "    \n",
    "    question_positions = positions[0].to(device)\n",
    "    response_positions = positions[1].to(device)\n",
    "    \n",
    "    question_token_types = token_types[0].to(device)\n",
    "    response_token_types = token_types[1].to(device) \n",
    "    \n",
    "    question_pad_mask = (question_token_ids != config.pad_index).float().to(device)\n",
    "    response_pad_mask = (response_token_ids != config.pad_index).float().to(device)\n",
    "    \n",
    "    with torch.no_grad():\n",
    "        question_embeddings = encoder(question_token_ids, question_pad_mask)\n",
    "        candidates_embeddings = encoder(response_token_ids, response_pad_mask)\n",
    "        \n",
    "        similarity_matrix = score_candidates(question_embeddings, candidates_embeddings)\n",
    "    \n",
    "    recall.add(similarity_matrix)"
   ]
  },
  {
   "cell_type": "code",
   "execution_count": null,
   "metadata": {},
   "outputs": [],
   "source": [
    "recall.metrics"
   ]
  },
  {
   "cell_type": "code",
   "execution_count": null,
   "metadata": {},
   "outputs": [],
   "source": [
    "print(recall.messages)"
   ]
  },
  {
   "cell_type": "code",
   "execution_count": null,
   "metadata": {},
   "outputs": [],
   "source": []
  }
 ],
 "metadata": {
  "kernelspec": {
   "display_name": "Python 3",
   "language": "python",
   "name": "python3"
  },
  "language_info": {
   "codemirror_mode": {
    "name": "ipython",
    "version": 3
   },
   "file_extension": ".py",
   "mimetype": "text/x-python",
   "name": "python",
   "nbconvert_exporter": "python",
   "pygments_lexer": "ipython3",
   "version": "3.7.4"
  }
 },
 "nbformat": 4,
 "nbformat_minor": 2
}
