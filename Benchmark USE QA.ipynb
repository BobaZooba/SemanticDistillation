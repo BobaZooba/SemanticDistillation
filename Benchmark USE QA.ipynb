{
 "cells": [
  {
   "cell_type": "code",
   "execution_count": 1,
   "metadata": {},
   "outputs": [],
   "source": [
    "import math\n",
    "import json\n",
    "\n",
    "import numpy as np\n",
    "\n",
    "import torch\n",
    "from torch import nn\n",
    "import torch.nn.functional as F\n",
    "from torch.utils.data import Dataset, DataLoader\n",
    "\n",
    "import transformers\n",
    "from tqdm import tqdm\n",
    "\n",
    "from src import data"
   ]
  },
  {
   "cell_type": "code",
   "execution_count": 2,
   "metadata": {},
   "outputs": [],
   "source": [
    "data_type = 'text'\n",
    "\n",
    "config = data.BaseConfig(data_type=data_type, batch_size=256, max_candidates=20)"
   ]
  },
  {
   "cell_type": "code",
   "execution_count": 3,
   "metadata": {},
   "outputs": [],
   "source": [
    "dataset_preparer = data.DatasetPreparer(config=config)"
   ]
  },
  {
   "cell_type": "code",
   "execution_count": 4,
   "metadata": {},
   "outputs": [],
   "source": [
    "dataloaders, dataloaders_with_candidates = dataset_preparer.load_data(as_data_loader=True)\n",
    "\n",
    "train_loader = dataloaders[0]\n",
    "valid_loader = dataloaders[1]\n",
    "\n",
    "train_loader_with_candidates = dataloaders_with_candidates[0]\n",
    "valid_loader_with_candidates = dataloaders_with_candidates[1]"
   ]
  },
  {
   "cell_type": "code",
   "execution_count": 5,
   "metadata": {},
   "outputs": [],
   "source": [
    "def score_candidates(question_embeddings, candidates_embeddings):\n",
    "    \n",
    "    candidates_batch_size, model_dim = candidates_embeddings.size()\n",
    "    candidates_per_sample = candidates_batch_size // question_embeddings.size(0)\n",
    "    \n",
    "    candidates_embeddings = candidates_embeddings.view(question_embeddings.size(0),\n",
    "                                                       candidates_per_sample,\n",
    "                                                       model_dim)\n",
    "    \n",
    "    similarity_matrix = torch.bmm(question_embeddings.unsqueeze(1), \n",
    "                                  candidates_embeddings.transpose(1, 2)).squeeze(dim=1)\n",
    "    \n",
    "    similarity_matrix = similarity_matrix.detach().cpu()\n",
    "    \n",
    "    return similarity_matrix"
   ]
  },
  {
   "cell_type": "code",
   "execution_count": 6,
   "metadata": {},
   "outputs": [
    {
     "name": "stderr",
     "output_type": "stream",
     "text": [
      "  0%|          | 0/976 [00:00<?, ?it/s]\n"
     ]
    }
   ],
   "source": [
    "for question, candidates in tqdm(valid_loader_with_candidates):\n",
    "    break"
   ]
  },
  {
   "cell_type": "code",
   "execution_count": 7,
   "metadata": {},
   "outputs": [
    {
     "data": {
      "text/plain": [
       "['how long have you been a doctor ?',\n",
       " 'i am actually a cancer survivor which is why i decided to become a life coach',\n",
       " 'that sounds much more fun than taking care of old people like me',\n",
       " \"i'll need the carbs to have energy for basketball !\",\n",
       " \"that's very mice . this is the first time i spoke in 3 months\",\n",
       " 'hello , how are you doing today ?',\n",
       " 'i am still an amateur so i hardly win haha',\n",
       " 'yep , i was visiting my sis in spain last month , it is nice']"
      ]
     },
     "execution_count": 7,
     "metadata": {},
     "output_type": "execute_result"
    }
   ],
   "source": [
    "question"
   ]
  },
  {
   "cell_type": "code",
   "execution_count": 8,
   "metadata": {},
   "outputs": [
    {
     "data": {
      "text/plain": [
       "168"
      ]
     },
     "execution_count": 8,
     "metadata": {},
     "output_type": "execute_result"
    }
   ],
   "source": [
    "# max_candidates = 20\n",
    "# true_answer = 1\n",
    "# len(candidates) = len(question) * (true_answer + max_candidates)\n",
    "len(candidates)"
   ]
  },
  {
   "cell_type": "code",
   "execution_count": 9,
   "metadata": {},
   "outputs": [],
   "source": [
    "recall = data.Recall()"
   ]
  },
  {
   "cell_type": "code",
   "execution_count": 10,
   "metadata": {},
   "outputs": [],
   "source": [
    "recall.reset()\n",
    "\n",
    "for question, candidates in tqdm(valid_loader_with_candidates):\n",
    "    \n",
    "    question_embeddings = <YOUR CODE HERE>\n",
    "    candidates_embeddings = <YOUR CODE HERE>\n",
    "        \n",
    "    with torch.no_grad():\n",
    "        similarity_matrix = score_candidates(torch.tensor(question_embeddings),\n",
    "                                             torch.tensor(candidates_embeddings))\n",
    "    \n",
    "    recall.add(similarity_matrix)"
   ]
  },
  {
   "cell_type": "code",
   "execution_count": 11,
   "metadata": {},
   "outputs": [],
   "source": [
    "recall.metrics"
   ]
  },
  {
   "cell_type": "code",
   "execution_count": 12,
   "metadata": {},
   "outputs": [],
   "source": [
    "print(recall.messages)"
   ]
  },
  {
   "cell_type": "code",
   "execution_count": null,
   "metadata": {},
   "outputs": [],
   "source": []
  }
 ],
 "metadata": {
  "kernelspec": {
   "display_name": "Python 3",
   "language": "python",
   "name": "python3"
  },
  "language_info": {
   "codemirror_mode": {
    "name": "ipython",
    "version": 3
   },
   "file_extension": ".py",
   "mimetype": "text/x-python",
   "name": "python",
   "nbconvert_exporter": "python",
   "pygments_lexer": "ipython3",
   "version": "3.7.4"
  }
 },
 "nbformat": 4,
 "nbformat_minor": 2
}
